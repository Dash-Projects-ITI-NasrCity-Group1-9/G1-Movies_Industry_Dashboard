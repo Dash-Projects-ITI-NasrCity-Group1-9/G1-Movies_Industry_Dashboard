{
 "cells": [
  {
   "cell_type": "code",
   "execution_count": 1,
   "metadata": {},
   "outputs": [],
   "source": [
    "import dash\n",
    "from dash import html\n",
    "from dash import dcc\n",
    "from jupyter_dash import JupyterDash\n",
    "import plotly.express as px\n",
    "import pandas as pd\n",
    "from dash.dependencies import Input, Output, State\n",
    "import plotly.graph_objects as go\n",
    "from plotly.subplots import make_subplots"
   ]
  },
  {
   "cell_type": "code",
   "execution_count": 2,
   "metadata": {},
   "outputs": [],
   "source": [
    "external_style = ['https://codepen.io/chriddyp/pen/bWLwgP.css']"
   ]
  },
  {
   "cell_type": "code",
   "execution_count": 3,
   "metadata": {},
   "outputs": [],
   "source": [
    "app=JupyterDash(__name__,external_stylesheets=external_style)"
   ]
  },
  {
   "cell_type": "code",
   "execution_count": null,
   "metadata": {},
   "outputs": [],
   "source": []
  },
  {
   "cell_type": "code",
   "execution_count": null,
   "metadata": {},
   "outputs": [],
   "source": []
  },
  {
   "cell_type": "code",
   "execution_count": 4,
   "metadata": {},
   "outputs": [],
   "source": [
    "moviesVsYears = pd.read_pickle('moviesVsYears.pickle')"
   ]
  },
  {
   "cell_type": "code",
   "execution_count": 5,
   "metadata": {},
   "outputs": [],
   "source": [
    "min_year=moviesVsYears['release_year'].min()"
   ]
  },
  {
   "cell_type": "code",
   "execution_count": 6,
   "metadata": {},
   "outputs": [],
   "source": [
    "max_year=moviesVsYears['release_year'].max()"
   ]
  },
  {
   "cell_type": "code",
   "execution_count": 7,
   "metadata": {},
   "outputs": [],
   "source": [
    "moviesVsYears['profit/movie']=moviesVsYears['profit']/moviesVsYears['original_title']"
   ]
  },
  {
   "cell_type": "code",
   "execution_count": null,
   "metadata": {},
   "outputs": [],
   "source": []
  },
  {
   "cell_type": "code",
   "execution_count": null,
   "metadata": {},
   "outputs": [],
   "source": []
  },
  {
   "cell_type": "code",
   "execution_count": 8,
   "metadata": {},
   "outputs": [],
   "source": [
    "companies = pd.read_pickle('companies.pickle')"
   ]
  },
  {
   "cell_type": "code",
   "execution_count": null,
   "metadata": {},
   "outputs": [],
   "source": []
  },
  {
   "cell_type": "code",
   "execution_count": 9,
   "metadata": {},
   "outputs": [],
   "source": [
    "\n",
    "movies = pd.read_pickle('movies.pickle')"
   ]
  },
  {
   "cell_type": "code",
   "execution_count": null,
   "metadata": {},
   "outputs": [],
   "source": []
  },
  {
   "cell_type": "code",
   "execution_count": 10,
   "metadata": {},
   "outputs": [],
   "source": [
    "directors = pd.read_pickle('directors.pickle')"
   ]
  },
  {
   "cell_type": "code",
   "execution_count": null,
   "metadata": {},
   "outputs": [],
   "source": []
  },
  {
   "cell_type": "code",
   "execution_count": null,
   "metadata": {},
   "outputs": [],
   "source": []
  },
  {
   "cell_type": "code",
   "execution_count": null,
   "metadata": {},
   "outputs": [],
   "source": []
  },
  {
   "cell_type": "code",
   "execution_count": null,
   "metadata": {},
   "outputs": [],
   "source": []
  },
  {
   "cell_type": "code",
   "execution_count": 11,
   "metadata": {},
   "outputs": [],
   "source": [
    "header=html.Div([html.H1('Movies Industry is BOOMING!!',\n",
    "                             style={'color':'red','textAlign':'left','marginBottom': 50,'fontWeight': 'bold', 'marginTop': 20,'marginLeft': 10})\n",
    "                ],style={'marginBottom': 100},className='six columns')"
   ]
  },
  {
   "cell_type": "code",
   "execution_count": 12,
   "metadata": {},
   "outputs": [],
   "source": [
    "area1=html.Div(id='area1',className='two columns')"
   ]
  },
  {
   "cell_type": "code",
   "execution_count": 13,
   "metadata": {},
   "outputs": [],
   "source": [
    "area2=html.Div(id='area2',className='two columns')"
   ]
  },
  {
   "cell_type": "code",
   "execution_count": 14,
   "metadata": {},
   "outputs": [],
   "source": [
    "area3=html.Div(id='area3',className='two columns')"
   ]
  },
  {
   "cell_type": "code",
   "execution_count": 15,
   "metadata": {},
   "outputs": [],
   "source": [
    "areas=html.Div([area1,area2,area3],className='row')"
   ]
  },
  {
   "cell_type": "code",
   "execution_count": null,
   "metadata": {},
   "outputs": [],
   "source": []
  },
  {
   "cell_type": "code",
   "execution_count": 16,
   "metadata": {},
   "outputs": [],
   "source": [
    "head_div=html.Div([header,areas],className='row')"
   ]
  },
  {
   "cell_type": "code",
   "execution_count": 17,
   "metadata": {},
   "outputs": [],
   "source": [
    "year_slider=dcc.Slider(\n",
    "                         id='year_slider',\n",
    "                         min=min_year,\n",
    "                         max=max_year,\n",
    "                         step=1,\n",
    "                         value=2005,\n",
    "                         marks={str(i):str(i) for i in range(min_year,max_year,2)})"
   ]
  },
  {
   "cell_type": "code",
   "execution_count": 18,
   "metadata": {},
   "outputs": [],
   "source": [
    "slider2=dcc.Slider(\n",
    "                         id='slider2',\n",
    "                         min=3,\n",
    "                         max=10,\n",
    "                         step=1,\n",
    "                         value=7,\n",
    "                         marks={str(i):str(i) for i in range(3,11)})"
   ]
  },
  {
   "cell_type": "code",
   "execution_count": 19,
   "metadata": {},
   "outputs": [],
   "source": [
    "slider3=dcc.Slider(\n",
    "                         id='slider3',\n",
    "                         min=3,\n",
    "                         max=10,\n",
    "                         step=1,\n",
    "                         value=7,\n",
    "                         marks={str(i):str(i) for i in range(3,11)})"
   ]
  },
  {
   "cell_type": "code",
   "execution_count": 20,
   "metadata": {},
   "outputs": [],
   "source": [
    "slider4=dcc.Slider(\n",
    "                         id='slider4',\n",
    "                         min=3,\n",
    "                         max=10,\n",
    "                         step=1,\n",
    "                         value=7,\n",
    "                         marks={str(i):str(i) for i in range(3,11)})"
   ]
  },
  {
   "cell_type": "code",
   "execution_count": 21,
   "metadata": {},
   "outputs": [],
   "source": [
    "year_slider_div=html.Div([year_slider],style={'marginBottom': 30})"
   ]
  },
  {
   "cell_type": "code",
   "execution_count": 22,
   "metadata": {},
   "outputs": [],
   "source": [
    "year_slider_title_div=html.Div(id='slider_title')"
   ]
  },
  {
   "cell_type": "code",
   "execution_count": null,
   "metadata": {},
   "outputs": [],
   "source": []
  },
  {
   "cell_type": "code",
   "execution_count": 23,
   "metadata": {},
   "outputs": [],
   "source": [
    "slider2_div=html.Div(id='slider2_title')"
   ]
  },
  {
   "cell_type": "code",
   "execution_count": 24,
   "metadata": {},
   "outputs": [],
   "source": [
    "slider3_div=html.Div(id='slider3_title')"
   ]
  },
  {
   "cell_type": "code",
   "execution_count": 25,
   "metadata": {},
   "outputs": [],
   "source": [
    "slider4_div=html.Div(id='slider4_title')"
   ]
  },
  {
   "cell_type": "code",
   "execution_count": null,
   "metadata": {},
   "outputs": [],
   "source": []
  },
  {
   "cell_type": "code",
   "execution_count": null,
   "metadata": {},
   "outputs": [],
   "source": []
  },
  {
   "cell_type": "code",
   "execution_count": 26,
   "metadata": {},
   "outputs": [],
   "source": [
    "graph1=html.Div([dcc.Tabs(id=\"tabs\", value='tab-1', children=[\n",
    "        dcc.Tab(label='Tab one', value='tab-1'),\n",
    "        dcc.Tab(label='Tab two', value='tab-2'),\n",
    "    ]),\n",
    "    html.Div(id='tabs-content')\n",
    "],className='six columns')"
   ]
  },
  {
   "cell_type": "code",
   "execution_count": 27,
   "metadata": {},
   "outputs": [],
   "source": [
    "graph2=html.Div([slider2_div,slider2,dcc.Graph(id='graph2')],className='six columns')"
   ]
  },
  {
   "cell_type": "code",
   "execution_count": 28,
   "metadata": {},
   "outputs": [],
   "source": [
    "graph3=html.Div([slider3_div,slider3,dcc.Graph(id='graph3')],className='six columns')"
   ]
  },
  {
   "cell_type": "code",
   "execution_count": 29,
   "metadata": {},
   "outputs": [],
   "source": [
    "graph4=html.Div([slider4_div,slider4,dcc.Graph(id='graph4')],className='six columns')"
   ]
  },
  {
   "cell_type": "code",
   "execution_count": 30,
   "metadata": {},
   "outputs": [],
   "source": [
    "graph_row_1=html.Div([graph1,graph2],className='row')"
   ]
  },
  {
   "cell_type": "code",
   "execution_count": 31,
   "metadata": {},
   "outputs": [],
   "source": [
    "graph_row_2=html.Div([graph3,graph4],className='row')"
   ]
  },
  {
   "cell_type": "code",
   "execution_count": null,
   "metadata": {},
   "outputs": [],
   "source": []
  },
  {
   "cell_type": "code",
   "execution_count": 32,
   "metadata": {},
   "outputs": [],
   "source": [
    "@app.callback(\n",
    "    Output(component_id='slider_title',component_property='children'),\n",
    "    Input(component_id='year_slider',component_property='value'))\n",
    "def write_slider_title(max_year):\n",
    "    return html.H4(\"Up to Year: {}\".format(max_year))"
   ]
  },
  {
   "cell_type": "code",
   "execution_count": null,
   "metadata": {},
   "outputs": [],
   "source": []
  },
  {
   "cell_type": "code",
   "execution_count": 33,
   "metadata": {},
   "outputs": [],
   "source": [
    "@app.callback(\n",
    "    Output(component_id='slider2_title',component_property='children'),\n",
    "    Input(component_id='slider2',component_property='value'))\n",
    "def write_slider2_title(num):\n",
    "    return html.H6(\"Showing Top {}\".format(num))"
   ]
  },
  {
   "cell_type": "code",
   "execution_count": null,
   "metadata": {},
   "outputs": [],
   "source": []
  },
  {
   "cell_type": "code",
   "execution_count": 34,
   "metadata": {},
   "outputs": [],
   "source": [
    "@app.callback(\n",
    "    Output(component_id='slider3_title',component_property='children'),\n",
    "    Input(component_id='slider3',component_property='value'))\n",
    "def write_slider3_title(num):\n",
    "    return html.H6(\"Showing Top {}\".format(num))"
   ]
  },
  {
   "cell_type": "code",
   "execution_count": null,
   "metadata": {},
   "outputs": [],
   "source": []
  },
  {
   "cell_type": "code",
   "execution_count": 35,
   "metadata": {},
   "outputs": [],
   "source": [
    "@app.callback(\n",
    "    Output(component_id='slider4_title',component_property='children'),\n",
    "    Input(component_id='slider4',component_property='value'))\n",
    "def write_slider4_title(num):\n",
    "    return html.H6(\"Showing Top {}\".format(num))"
   ]
  },
  {
   "cell_type": "code",
   "execution_count": null,
   "metadata": {},
   "outputs": [],
   "source": []
  },
  {
   "cell_type": "code",
   "execution_count": 36,
   "metadata": {},
   "outputs": [],
   "source": [
    "@app.callback(Output('tabs-content', 'children'),\n",
    "              Input('tabs', 'value'),\n",
    "              Input(component_id='year_slider',component_property='value'))\n",
    "def first_graph(tab,max_year):\n",
    "    yy=moviesVsYears[moviesVsYears['release_year'] <= max_year]\n",
    "    if tab == 'tab-1':\n",
    "        fig = make_subplots(specs=[[{\"secondary_y\": True}]])\n",
    "        fig.add_trace(\n",
    "            go.Scatter(x=yy['release_year'],y = yy['original_title'], name = 'Year vs Movies'),\n",
    "            secondary_y=False,\n",
    "        )\n",
    "        fig.add_trace(\n",
    "            go.Scatter(x=yy['release_year'],y = yy['profit'], name = 'Year vs Profit'),\n",
    "            secondary_y=True,\n",
    "        )\n",
    "        fig.update_layout(\n",
    "            title_text=\"Numer of movies and profit over the years\",legend=dict(\n",
    "    yanchor=\"top\",\n",
    "    y=0.99,\n",
    "    xanchor=\"left\",\n",
    "    x=0.01\n",
    ")\n",
    "        )\n",
    "        fig.update_xaxes(title_text=\"Year\")\n",
    "        fig.update_yaxes(title_text=\"Number of Movies\", secondary_y=False)\n",
    "        fig.update_yaxes(title_text=\"Profits\", secondary_y=True)\n",
    "        return html.Div(dcc.Graph(id='graph11',figure=fig))\n",
    "    elif tab == 'tab-2':\n",
    "        fig2 = px.scatter(yy, x='release_year',y = 'profit/movie', title = 'Year vs Movies',trendline=\"ols\")\n",
    "        return html.Div(dcc.Graph(id='graph12',figure=fig2))"
   ]
  },
  {
   "cell_type": "code",
   "execution_count": null,
   "metadata": {},
   "outputs": [],
   "source": []
  },
  {
   "cell_type": "code",
   "execution_count": 37,
   "metadata": {},
   "outputs": [],
   "source": [
    "@app.callback(\n",
    "    Output(component_id='graph2',component_property='figure'),\n",
    "    \n",
    "    Input(component_id='year_slider',component_property='value'),\n",
    "    Input(component_id='slider2',component_property='value'))\n",
    "def second_graph(max_year,selected_num):\n",
    "    movies_selected = movies[movies['release_year'] <= max_year]\n",
    "    y12 = movies_selected.head(selected_num)\n",
    "    \n",
    "    fig_top_movies = px.bar(\n",
    "            x=y12['original_title'], y=y12['profit'],hover_name =y12['original_title'],title='Top Movies',labels={'x':'Movies','y':'Profit'})\n",
    "    fig_top_movies.update_layout(xaxis={'visible': True, 'showticklabels': False},overwrite=False,yaxis_range=[0,2.6*10**9])\n",
    "    \n",
    "    return fig_top_movies"
   ]
  },
  {
   "cell_type": "code",
   "execution_count": null,
   "metadata": {},
   "outputs": [],
   "source": []
  },
  {
   "cell_type": "code",
   "execution_count": null,
   "metadata": {},
   "outputs": [],
   "source": []
  },
  {
   "cell_type": "code",
   "execution_count": 38,
   "metadata": {},
   "outputs": [],
   "source": [
    "@app.callback(\n",
    "    Output(component_id='graph3',component_property='figure'),\n",
    "    Input(component_id='year_slider',component_property='value'),\n",
    "    Input(component_id='slider3',component_property='value'))\n",
    "def third_graph(max_year,selected_num):\n",
    "    yy1 = companies[companies['release_year'] <= max_year].groupby('production_companies',as_index = False)['profit'].sum().sort_values(by = 'profit', ascending = False)\n",
    "    yy11 = yy1.head(selected_num)\n",
    "    fig_top_companies = px.bar(yy11, x='production_companies', y='profit',hover_name=yy11['production_companies'],title='Top Productions Companies',labels={'production_companies':'Companies','profit':'Profit'})\n",
    "    fig_top_companies.update_layout(xaxis={'visible': True, 'showticklabels': False,},overwrite=False,yaxis_range=[0,13*10**9])\n",
    "    return fig_top_companies"
   ]
  },
  {
   "cell_type": "code",
   "execution_count": null,
   "metadata": {},
   "outputs": [],
   "source": []
  },
  {
   "cell_type": "code",
   "execution_count": 39,
   "metadata": {},
   "outputs": [],
   "source": [
    "@app.callback(\n",
    "    Output(component_id='graph4',component_property='figure'),\n",
    "    Input(component_id='year_slider',component_property='value'),\n",
    "    Input(component_id='slider4',component_property='value'))\n",
    "def forth_graph(max_year,selected_num):\n",
    "    directors_selected = directors[directors['release_year'] <= max_year].groupby('director',as_index = False)['profit'].sum().sort_values(by = 'profit', ascending = False)\n",
    "    y13 = directors_selected.head(selected_num)\n",
    "    fig_top_director = px.bar(y13, x='director', y='profit',hover_name=y13['director'],title='Top Directors',labels={'director':'Director','profit':'Profit'})\n",
    "    fig_top_director.update_layout(xaxis={'visible': True, 'showticklabels': False,},overwrite=False,yaxis_range=[0,8*10**9])\n",
    "    return fig_top_director"
   ]
  },
  {
   "cell_type": "code",
   "execution_count": null,
   "metadata": {},
   "outputs": [],
   "source": []
  },
  {
   "cell_type": "code",
   "execution_count": 40,
   "metadata": {},
   "outputs": [],
   "source": [
    "@app.callback(\n",
    "    Output(component_id='area1',component_property='children'),\n",
    "    Input(component_id='year_slider',component_property='value')\n",
    ")\n",
    "def update_area1(max_year):\n",
    "    movies_selected = movies[movies['release_year'] <= max_year]\n",
    "    y12 = movies_selected.head(1)['original_title']\n",
    "    h6=html.P('Top Movie')\n",
    "    h1=html.H3(y12,style={'fontWeight': 'bold'})\n",
    "    \n",
    "    return html.Div([h6,h1])"
   ]
  },
  {
   "cell_type": "code",
   "execution_count": null,
   "metadata": {},
   "outputs": [],
   "source": []
  },
  {
   "cell_type": "code",
   "execution_count": 41,
   "metadata": {},
   "outputs": [],
   "source": [
    "@app.callback(\n",
    "    Output(component_id='area2',component_property='children'),\n",
    "    Input(component_id='year_slider',component_property='value')\n",
    ")\n",
    "def update_area2(max_year):\n",
    "    directors_selected = directors[directors['release_year'] <= max_year].groupby('director',as_index = False)['profit'].sum().sort_values(by = 'profit', ascending = False)\n",
    "    y13 = directors_selected.head(1)['director']\n",
    "    h6=html.P('Top Director')\n",
    "    h1=html.H3(y13,style={'fontWeight': 'bold'})\n",
    "    \n",
    "    return html.Div([h6,h1])"
   ]
  },
  {
   "cell_type": "code",
   "execution_count": null,
   "metadata": {},
   "outputs": [],
   "source": []
  },
  {
   "cell_type": "code",
   "execution_count": 42,
   "metadata": {},
   "outputs": [],
   "source": [
    "@app.callback(\n",
    "    Output(component_id='area3',component_property='children'),\n",
    "    Input(component_id='year_slider',component_property='value')\n",
    ")\n",
    "def update_area3(max_year):\n",
    "    yy1 = companies[companies['release_year'] <= max_year].groupby('production_companies',as_index = False)['profit'].sum().sort_values(by = 'profit', ascending = False)\n",
    "    yy11 = yy1.head(1)['production_companies']\n",
    "    h6=html.P('Top Production Company')\n",
    "    h1=html.H3(yy11,style={'fontWeight': 'bold'})\n",
    "    \n",
    "    return html.Div([h6,h1])"
   ]
  },
  {
   "cell_type": "code",
   "execution_count": null,
   "metadata": {},
   "outputs": [],
   "source": []
  },
  {
   "cell_type": "code",
   "execution_count": 43,
   "metadata": {},
   "outputs": [],
   "source": [
    "app.layout=html.Div([head_div,year_slider_title_div,year_slider_div,graph_row_1,graph_row_2])"
   ]
  },
  {
   "cell_type": "code",
   "execution_count": 44,
   "metadata": {},
   "outputs": [
    {
     "name": "stdout",
     "output_type": "stream",
     "text": [
      "Dash app running on http://127.0.0.1:8051/\n"
     ]
    }
   ],
   "source": [
    "app.run_server(port=8051)"
   ]
  },
  {
   "cell_type": "code",
   "execution_count": null,
   "metadata": {},
   "outputs": [],
   "source": []
  }
 ],
 "metadata": {
  "kernelspec": {
   "display_name": "Python 3",
   "language": "python",
   "name": "python3"
  },
  "language_info": {
   "codemirror_mode": {
    "name": "ipython",
    "version": 3
   },
   "file_extension": ".py",
   "mimetype": "text/x-python",
   "name": "python",
   "nbconvert_exporter": "python",
   "pygments_lexer": "ipython3",
   "version": "3.8.5"
  }
 },
 "nbformat": 4,
 "nbformat_minor": 4
}
