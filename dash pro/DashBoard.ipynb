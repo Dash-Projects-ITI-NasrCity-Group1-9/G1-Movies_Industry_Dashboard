{
 "cells": [
  {
   "cell_type": "code",
   "execution_count": 1,
   "metadata": {},
   "outputs": [],
   "source": [
    "import dash\n",
    "from dash import html\n",
    "from dash import dcc\n",
    "from jupyter_dash import JupyterDash\n",
    "import plotly.express as px\n",
    "import pandas as pd\n",
    "from dash.dependencies import Input, Output, State\n",
    "import plotly.graph_objects as go\n",
    "from plotly.subplots import make_subplots"
   ]
  },
  {
   "cell_type": "code",
   "execution_count": 2,
   "metadata": {},
   "outputs": [],
   "source": [
    "external_style = ['https://codepen.io/chriddyp/pen/bWLwgP.css',]"
   ]
  },
  {
   "cell_type": "code",
   "execution_count": 3,
   "metadata": {},
   "outputs": [],
   "source": [
    "app=JupyterDash(__name__,external_stylesheets=external_style)"
   ]
  },
  {
   "cell_type": "code",
   "execution_count": null,
   "metadata": {},
   "outputs": [],
   "source": []
  },
  {
   "cell_type": "markdown",
   "metadata": {},
   "source": [
    "# Importing Clean Data"
   ]
  },
  {
   "cell_type": "code",
   "execution_count": 4,
   "metadata": {},
   "outputs": [],
   "source": [
    "moviesVsYears = pd.read_pickle('moviesVsYears.pickle')"
   ]
  },
  {
   "cell_type": "code",
   "execution_count": 5,
   "metadata": {},
   "outputs": [],
   "source": [
    "min_year=moviesVsYears['release_year'].min()"
   ]
  },
  {
   "cell_type": "code",
   "execution_count": 6,
   "metadata": {},
   "outputs": [],
   "source": [
    "max_year=moviesVsYears['release_year'].max()"
   ]
  },
  {
   "cell_type": "code",
   "execution_count": 7,
   "metadata": {},
   "outputs": [],
   "source": [
    "moviesVsYears['profit/movie']=moviesVsYears['profit']/moviesVsYears['original_title']"
   ]
  },
  {
   "cell_type": "code",
   "execution_count": 8,
   "metadata": {},
   "outputs": [],
   "source": [
    "companies = pd.read_pickle('companies.pickle')"
   ]
  },
  {
   "cell_type": "code",
   "execution_count": 9,
   "metadata": {},
   "outputs": [],
   "source": [
    "genres=pd.read_pickle('genres.pickle')"
   ]
  },
  {
   "cell_type": "code",
   "execution_count": 10,
   "metadata": {},
   "outputs": [],
   "source": [
    "\n",
    "movies = pd.read_pickle('movies.pickle')"
   ]
  },
  {
   "cell_type": "code",
   "execution_count": 11,
   "metadata": {},
   "outputs": [],
   "source": [
    "directors = pd.read_pickle('directors.pickle')"
   ]
  },
  {
   "cell_type": "code",
   "execution_count": null,
   "metadata": {},
   "outputs": [],
   "source": []
  },
  {
   "cell_type": "code",
   "execution_count": null,
   "metadata": {},
   "outputs": [],
   "source": []
  },
  {
   "cell_type": "markdown",
   "metadata": {},
   "source": [
    "# Building Layout"
   ]
  },
  {
   "cell_type": "markdown",
   "metadata": {},
   "source": [
    "## Header Area"
   ]
  },
  {
   "cell_type": "code",
   "execution_count": 12,
   "metadata": {},
   "outputs": [],
   "source": [
    "header=html.Div([html.H1('Movies Industry',\n",
    "                             style={'font-family':'Impact','font-size':60,'backgroundColor':'gold','color':'black','textAlign':'left','marginBottom': 10,'fontWeight': 'bold', 'marginTop': 50,'marginLeft': 10})\n",
    "                ],style={'marginBottom': 80,'backgroundColor':'gold'},className='four columns')"
   ]
  },
  {
   "cell_type": "code",
   "execution_count": 13,
   "metadata": {},
   "outputs": [],
   "source": [
    "area1=html.Div(id='area1',className='two columns',style={'backgroundColor':'gold'})"
   ]
  },
  {
   "cell_type": "code",
   "execution_count": 14,
   "metadata": {},
   "outputs": [],
   "source": [
    "area2=html.Div(id='area2',className='two columns',style={'backgroundColor':'gold'})"
   ]
  },
  {
   "cell_type": "code",
   "execution_count": 15,
   "metadata": {},
   "outputs": [],
   "source": [
    "area3=html.Div(id='area3',className='two columns',style={'backgroundColor':'gold'})"
   ]
  },
  {
   "cell_type": "code",
   "execution_count": 16,
   "metadata": {},
   "outputs": [],
   "source": [
    "area4=html.Div(id='area4',className='two columns',style={'backgroundColor':'gold'})"
   ]
  },
  {
   "cell_type": "code",
   "execution_count": 17,
   "metadata": {},
   "outputs": [],
   "source": [
    "areas=html.Div([area1,area2,area3,area4],className='row',style={'backgroundColor':'gold'})"
   ]
  },
  {
   "cell_type": "code",
   "execution_count": null,
   "metadata": {},
   "outputs": [],
   "source": []
  },
  {
   "cell_type": "code",
   "execution_count": 18,
   "metadata": {},
   "outputs": [],
   "source": [
    "head_div=html.Div([header,areas],className='row',style={'backgroundColor':'gold'})"
   ]
  },
  {
   "cell_type": "markdown",
   "metadata": {},
   "source": [
    "## Sliders"
   ]
  },
  {
   "cell_type": "code",
   "execution_count": 19,
   "metadata": {},
   "outputs": [],
   "source": [
    "year_slider=dcc.RangeSlider(\n",
    "                         id='year_slider',\n",
    "                         min=min_year,\n",
    "                         max=max_year,\n",
    "                         step=1,\n",
    "                         value=[min_year,max_year],\n",
    "                         marks={str(i):{'label':str(i),'style': {'color': 'gold'}} for i in range(min_year,max_year,2)},\n",
    "                        included=False,\n",
    "                        tooltip={\"placement\": \"top\", \"always_visible\": True}\n",
    ")"
   ]
  },
  {
   "cell_type": "code",
   "execution_count": 20,
   "metadata": {},
   "outputs": [],
   "source": [
    "slider2=dcc.Slider(\n",
    "                         id='slider2',\n",
    "                         min=3,\n",
    "                         max=10,\n",
    "                         step=1,\n",
    "                         value=7,\n",
    "                         marks={str(i):{'label':str(i),'style': {'color': 'gold'}} for i in range(3,11)},\n",
    "                        included=False,\n",
    "                        tooltip={\"placement\": \"top\", \"always_visible\": True})"
   ]
  },
  {
   "cell_type": "code",
   "execution_count": 21,
   "metadata": {},
   "outputs": [],
   "source": [
    "slider3=dcc.Slider(\n",
    "                         id='slider3',\n",
    "                         min=3,\n",
    "                         max=10,\n",
    "                         step=1,\n",
    "                         value=7,\n",
    "                         marks={str(i):{'label':str(i),'style': {'color': 'gold'}} for i in range(3,11)},\n",
    "                        included=False,\n",
    "                        tooltip={\"placement\": \"top\", \"always_visible\": True})"
   ]
  },
  {
   "cell_type": "code",
   "execution_count": 22,
   "metadata": {},
   "outputs": [],
   "source": [
    "slider4=dcc.Slider(\n",
    "                         id='slider4',\n",
    "                         min=3,\n",
    "                         max=10,\n",
    "                         step=1,\n",
    "                         value=7,\n",
    "                         marks={str(i):{'label':str(i),'style': {'color': 'gold'}} for i in range(3,11)},\n",
    "                        included=False,\n",
    "                        tooltip={\"placement\": \"top\", \"always_visible\": True})"
   ]
  },
  {
   "cell_type": "code",
   "execution_count": 23,
   "metadata": {},
   "outputs": [],
   "source": [
    "slider5=dcc.Slider(\n",
    "                         id='slider5',\n",
    "                         min=3,\n",
    "                         max=10,\n",
    "                         step=1,\n",
    "                         value=7,\n",
    "                         marks={str(i):{'label':str(i),'style': {'color': 'gold'}} for i in range(3,11)},\n",
    "                        included=False,\n",
    "                        tooltip={\"placement\": \"top\", \"always_visible\": True})"
   ]
  },
  {
   "cell_type": "code",
   "execution_count": 24,
   "metadata": {},
   "outputs": [],
   "source": [
    "year_slider_div=html.Div([year_slider],style={'marginBottom': 30})"
   ]
  },
  {
   "cell_type": "code",
   "execution_count": 25,
   "metadata": {},
   "outputs": [],
   "source": [
    "year_slider_title_div=html.Div(id='slider_title')"
   ]
  },
  {
   "cell_type": "code",
   "execution_count": null,
   "metadata": {},
   "outputs": [],
   "source": []
  },
  {
   "cell_type": "code",
   "execution_count": 26,
   "metadata": {},
   "outputs": [],
   "source": [
    "slider2_title_div=html.Div(id='slider2_title')"
   ]
  },
  {
   "cell_type": "code",
   "execution_count": 27,
   "metadata": {},
   "outputs": [],
   "source": [
    "slider3_title_div=html.Div(id='slider3_title')"
   ]
  },
  {
   "cell_type": "code",
   "execution_count": 28,
   "metadata": {},
   "outputs": [],
   "source": [
    "slider4_title_div=html.Div(id='slider4_title')"
   ]
  },
  {
   "cell_type": "code",
   "execution_count": 29,
   "metadata": {},
   "outputs": [],
   "source": [
    "slider5_title_div=html.Div(id='slider5_title')"
   ]
  },
  {
   "cell_type": "code",
   "execution_count": null,
   "metadata": {},
   "outputs": [],
   "source": []
  },
  {
   "cell_type": "markdown",
   "metadata": {},
   "source": [
    "## Building Graphs"
   ]
  },
  {
   "cell_type": "code",
   "execution_count": 30,
   "metadata": {},
   "outputs": [],
   "source": [
    "tab_selected_style = {\n",
    "    \"background\": \"gold\",\n",
    "    'color': 'black',\n",
    "    'font-weight':'bold',\n",
    "    'font-size':20,\n",
    "    'border-style': 'solid',\n",
    "    'border-color': 'gold',\n",
    "}\n",
    "tab_style = {\n",
    "    \"background\": \"#181818\",\n",
    "    'color': 'gold',\n",
    "    'font-size':20,\n",
    "    'font-weight':'bold',\n",
    "    'border-style': 'solid',\n",
    "    'border-color': 'gold',\n",
    "}\n",
    "tabs_styles = { 'display': 'inlineBlock',\n",
    "                \"background\": 'gold',\n",
    "               'border': 'grey'}"
   ]
  },
  {
   "cell_type": "code",
   "execution_count": 31,
   "metadata": {},
   "outputs": [],
   "source": [
    "graph1=html.Div([dcc.Tabs(id=\"tabs\", value='tab-1', children=[\n",
    "        dcc.Tab(label='Movies numbers and Profit', value='tab-1',style=tab_style,selected_style=tab_selected_style),\n",
    "        dcc.Tab(label='Profit/Movie', value='tab-2',style=tab_style,selected_style=tab_selected_style),\n",
    "    ],style=tabs_styles),\n",
    "    html.Div(id='tabs-content')\n",
    "],style={'backgroundColor':'gold'})"
   ]
  },
  {
   "cell_type": "code",
   "execution_count": 32,
   "metadata": {},
   "outputs": [],
   "source": [
    "graph2=html.Div([slider2_title_div,slider2,dcc.Graph(id='graph2')],className='six columns')"
   ]
  },
  {
   "cell_type": "code",
   "execution_count": 33,
   "metadata": {},
   "outputs": [],
   "source": [
    "graph3=html.Div([slider3_title_div,slider3,dcc.Graph(id='graph3')],className='six columns')"
   ]
  },
  {
   "cell_type": "code",
   "execution_count": 34,
   "metadata": {},
   "outputs": [],
   "source": [
    "graph4=html.Div([slider4_title_div,slider4,dcc.Graph(id='graph4')],className='six columns')"
   ]
  },
  {
   "cell_type": "code",
   "execution_count": 35,
   "metadata": {},
   "outputs": [],
   "source": [
    "graph5=html.Div([slider5_title_div,slider5,dcc.Graph(id='graph5')],className='six columns')"
   ]
  },
  {
   "cell_type": "code",
   "execution_count": 36,
   "metadata": {},
   "outputs": [],
   "source": [
    "graph_row_1=html.Div([graph1],className='row',style={'backgroundColor':'gold'})"
   ]
  },
  {
   "cell_type": "code",
   "execution_count": 37,
   "metadata": {},
   "outputs": [],
   "source": [
    "graph_row_2=html.Div([graph2,graph3],className='row')"
   ]
  },
  {
   "cell_type": "code",
   "execution_count": 38,
   "metadata": {},
   "outputs": [],
   "source": [
    "graph_row_3=html.Div([graph4,graph5],className='row')"
   ]
  },
  {
   "cell_type": "code",
   "execution_count": null,
   "metadata": {},
   "outputs": [],
   "source": []
  },
  {
   "cell_type": "markdown",
   "metadata": {},
   "source": [
    "# CallBacks"
   ]
  },
  {
   "cell_type": "markdown",
   "metadata": {},
   "source": [
    "# Sliders Callbacks"
   ]
  },
  {
   "cell_type": "code",
   "execution_count": 39,
   "metadata": {},
   "outputs": [],
   "source": [
    "@app.callback(\n",
    "    Output(component_id='slider_title',component_property='children'),\n",
    "    Input(component_id='year_slider',component_property='value'))\n",
    "def write_slider_title(max_year):\n",
    "    return html.H4(\"From Year {} to Year {}\".format(*max_year),style={'color':'gold','fontWeight':'bold'})"
   ]
  },
  {
   "cell_type": "code",
   "execution_count": null,
   "metadata": {},
   "outputs": [],
   "source": []
  },
  {
   "cell_type": "code",
   "execution_count": 40,
   "metadata": {},
   "outputs": [],
   "source": [
    "@app.callback(\n",
    "    Output(component_id='slider2_title',component_property='children'),\n",
    "    Input(component_id='slider2',component_property='value'))\n",
    "def write_slider2_title(num):\n",
    "    return html.H6(\"Showing Top {}\".format(num),style={'color':'gold'})"
   ]
  },
  {
   "cell_type": "code",
   "execution_count": null,
   "metadata": {},
   "outputs": [],
   "source": []
  },
  {
   "cell_type": "code",
   "execution_count": 41,
   "metadata": {},
   "outputs": [],
   "source": [
    "@app.callback(\n",
    "    Output(component_id='slider3_title',component_property='children'),\n",
    "    Input(component_id='slider3',component_property='value'))\n",
    "def write_slider3_title(num):\n",
    "    return html.H6(\"Showing Top {}\".format(num),style={'color':'gold'})"
   ]
  },
  {
   "cell_type": "code",
   "execution_count": null,
   "metadata": {},
   "outputs": [],
   "source": []
  },
  {
   "cell_type": "code",
   "execution_count": 42,
   "metadata": {},
   "outputs": [],
   "source": [
    "@app.callback(\n",
    "    Output(component_id='slider4_title',component_property='children'),\n",
    "    Input(component_id='slider4',component_property='value'))\n",
    "def write_slider4_title(num):\n",
    "    return html.H6(\"Showing Top {}\".format(num),style={'color':'gold'})"
   ]
  },
  {
   "cell_type": "code",
   "execution_count": null,
   "metadata": {},
   "outputs": [],
   "source": []
  },
  {
   "cell_type": "code",
   "execution_count": 43,
   "metadata": {},
   "outputs": [],
   "source": [
    "@app.callback(\n",
    "    Output(component_id='slider5_title',component_property='children'),\n",
    "    Input(component_id='slider5',component_property='value'))\n",
    "def write_slider4_title(num):\n",
    "    return html.H6(\"Showing Top {}\".format(num),style={'color':'gold'})"
   ]
  },
  {
   "cell_type": "markdown",
   "metadata": {},
   "source": [
    "## Graphs Callbacks"
   ]
  },
  {
   "cell_type": "markdown",
   "metadata": {},
   "source": [
    "### Tabs"
   ]
  },
  {
   "cell_type": "code",
   "execution_count": 44,
   "metadata": {},
   "outputs": [],
   "source": [
    "@app.callback(Output('tabs-content', 'children'),\n",
    "              Input('tabs', 'value'),\n",
    "              Input(component_id='year_slider',component_property='value'))\n",
    "def first_graph(tab,max_year):\n",
    "    yy=moviesVsYears[(moviesVsYears['release_year'] <= max_year[1]) & (moviesVsYears['release_year'] >= max_year[0])]\n",
    "    if tab == 'tab-1':\n",
    "        fig = make_subplots(specs=[[{\"secondary_y\": True}]])\n",
    "        fig.add_trace(\n",
    "            go.Scatter(x=yy['release_year'],y = yy['original_title'], name = 'Year vs Movies'),\n",
    "            secondary_y=False\n",
    "        )\n",
    "        fig.add_trace(\n",
    "            go.Scatter(x=yy['release_year'],y = yy['profit'], name = 'Year vs Profit'),\n",
    "            secondary_y=True,\n",
    "        )\n",
    "        #fig.layout.plot_bgcolor='#181818'\n",
    "        #fig.layout.paper_bgcolor='#181818'\n",
    "        fig.update_layout(yaxis={'showgrid':False},font={'color':'gold'},\n",
    "                          title_text=\"<b>Numer of movies and profit over the years</b>\",\n",
    "                          title_font_size=17,\n",
    "                          title_x=0.5,\n",
    "                          plot_bgcolor='#181818',\n",
    "                          paper_bgcolor='#181818'\n",
    "        )\n",
    "        fig.update_xaxes(title_text=\"Year\")\n",
    "        fig.update_yaxes(title_text=\"Number of Movies\", secondary_y=False)\n",
    "        fig.update_yaxes(title_text=\"Profits $\", secondary_y=True)\n",
    "        return html.Div(dcc.Graph(id='graph11',figure=fig))\n",
    "    \n",
    "    elif tab == 'tab-2':\n",
    "        fig2 = px.scatter(yy, x='release_year',y = 'profit/movie', title = '<b>Year vs Movies</b>',trendline=\"ols\", trendline_color_override=\"gold\")\n",
    "        fig2.layout.plot_bgcolor='#181818'\n",
    "        fig2.update_traces(marker={'color':'gold'})\n",
    "        fig2.layout.font={'color':'gold'}\n",
    "        fig2.layout.paper_bgcolor='#181818'\n",
    "        fig2.update_layout(title_x=0.5)\n",
    "        fig2.update_xaxes(title_text=\"Year\")\n",
    "        fig2.update_yaxes(title_text=\"Profit/Movie $\")\n",
    "        return html.Div(dcc.Graph(id='graph12',figure=fig2))"
   ]
  },
  {
   "cell_type": "markdown",
   "metadata": {},
   "source": [
    "### Graph 3"
   ]
  },
  {
   "cell_type": "code",
   "execution_count": 45,
   "metadata": {},
   "outputs": [],
   "source": [
    "@app.callback(\n",
    "    Output(component_id='graph2',component_property='figure'),\n",
    "    \n",
    "    Input(component_id='year_slider',component_property='value'),\n",
    "    Input(component_id='slider2',component_property='value'))\n",
    "def second_graph(max_year,selected_num):\n",
    "    movies_selected = movies[(movies['release_year'] <= max_year[1]) & (movies['release_year'] >= max_year[0])]\n",
    "    y12 = movies_selected.head(selected_num)\n",
    "    \n",
    "    data = [\n",
    "        go.Bar(\n",
    "           y=y12['original_title'],\n",
    "           x=y12['profit'], orientation='h',marker_color=['gold']*selected_num,text=y12['original_title'],textfont=dict(size=14)\n",
    "       )]\n",
    "\n",
    "    layout = go.Layout(font={'color':'gold','size':14},plot_bgcolor='#181818',paper_bgcolor='#181818',title='<b>Top Movies</b>',yaxis={'visible': True, 'showticklabels': False},xaxis_title='Profit $',yaxis_title='Movies')\n",
    "    return {'data':data,'layout':layout}"
   ]
  },
  {
   "cell_type": "code",
   "execution_count": null,
   "metadata": {},
   "outputs": [],
   "source": []
  },
  {
   "cell_type": "markdown",
   "metadata": {},
   "source": [
    "### Graph 4"
   ]
  },
  {
   "cell_type": "code",
   "execution_count": 46,
   "metadata": {},
   "outputs": [],
   "source": [
    "@app.callback(\n",
    "    Output(component_id='graph3',component_property='figure'),\n",
    "    Input(component_id='year_slider',component_property='value'),\n",
    "    Input(component_id='slider3',component_property='value'))\n",
    "def third_graph(max_year,selected_num):\n",
    "    yy1 = companies[(companies['release_year'] <= max_year[1]) & (companies['release_year'] >= max_year[0])].groupby('production_companies',as_index = False)['profit'].sum().sort_values(by = 'profit', ascending = False)\n",
    "    y12 = yy1.head(selected_num)\n",
    "    data = [go.Bar(y=y12['production_companies'],x=y12['profit'],textfont=dict(size=14),marker_color=['gold']*selected_num, orientation='h',text=y12['production_companies'])]\n",
    "    layout = go.Layout(font={'color':'gold','size':14},plot_bgcolor='#181818',paper_bgcolor='#181818',title='<b>Top Production Companies</b>',yaxis={'visible': True, 'showticklabels': False},xaxis_title='Profit $',yaxis_title='Companies')\n",
    "    return {'data':data,'layout':layout}"
   ]
  },
  {
   "cell_type": "code",
   "execution_count": null,
   "metadata": {},
   "outputs": [],
   "source": []
  },
  {
   "cell_type": "markdown",
   "metadata": {},
   "source": [
    "### Graph 5"
   ]
  },
  {
   "cell_type": "code",
   "execution_count": 47,
   "metadata": {},
   "outputs": [],
   "source": [
    "@app.callback(\n",
    "    Output(component_id='graph4',component_property='figure'),\n",
    "    Input(component_id='year_slider',component_property='value'),\n",
    "    Input(component_id='slider4',component_property='value'))\n",
    "def forth_graph(max_year,selected_num):\n",
    "    directors_selected = directors[(directors['release_year'] <= max_year[1]) & (directors['release_year'] >= max_year[0])].groupby('director',as_index = False)['profit'].sum().sort_values(by = 'profit', ascending = False)\n",
    "    y12 = directors_selected.head(selected_num)\n",
    "    data = [go.Bar(y=y12['director'],x=y12['profit'], orientation='h',textfont=dict(size=14),marker_color=['gold']*selected_num,text=y12['director'])]\n",
    "    layout = go.Layout(font={'color':'gold','size':14},plot_bgcolor='#181818',paper_bgcolor='#181818',title='<b>Top Directors</b>',yaxis={'visible': True, 'showticklabels': False},xaxis_title='Profit $',yaxis_title='Directors')\n",
    "    return {'data':data,'layout':layout}"
   ]
  },
  {
   "cell_type": "code",
   "execution_count": null,
   "metadata": {},
   "outputs": [],
   "source": []
  },
  {
   "cell_type": "markdown",
   "metadata": {},
   "source": [
    "### Graph 6"
   ]
  },
  {
   "cell_type": "code",
   "execution_count": 48,
   "metadata": {},
   "outputs": [],
   "source": [
    "@app.callback(\n",
    "    Output(component_id='graph5',component_property='figure'),\n",
    "    Input(component_id='year_slider',component_property='value'),\n",
    "    Input(component_id='slider5',component_property='value'))\n",
    "def fifth_graph(max_year,selected_num):\n",
    "    yy1 = genres[(genres['release_year'] <= max_year[1])&(genres['release_year'] >= max_year[0])].groupby('genres',as_index = False)['profit'].sum().sort_values(by = 'profit', ascending = False)\n",
    "    y12 = yy1.head(selected_num)\n",
    "    data = [go.Bar(y=y12['genres'],x=y12['profit'], orientation='h',textfont=dict(size=14),marker_color=['gold']*selected_num,text=y12['genres'])]\n",
    "    layout = go.Layout(font={'color':'gold','size':14},plot_bgcolor='#181818',paper_bgcolor='#181818',title='<b>Top Genres</b>',yaxis={'visible': True, 'showticklabels': False},xaxis_title='Profit $',yaxis_title='Genres')\n",
    "    return {'data':data,'layout':layout}\n"
   ]
  },
  {
   "cell_type": "code",
   "execution_count": null,
   "metadata": {},
   "outputs": [],
   "source": []
  },
  {
   "cell_type": "markdown",
   "metadata": {},
   "source": [
    "## Bans Callbacks"
   ]
  },
  {
   "cell_type": "code",
   "execution_count": 49,
   "metadata": {},
   "outputs": [],
   "source": [
    "@app.callback(\n",
    "    Output(component_id='area1',component_property='children'),\n",
    "    Input(component_id='year_slider',component_property='value')\n",
    ")\n",
    "def update_area1(max_year):\n",
    "    movies_selected = movies[(movies['release_year'] <= max_year[1]) & (movies['release_year'] >= max_year[0])]\n",
    "    y12 = movies_selected.head(1)['original_title']\n",
    "    h6=html.P('Top Movie',style={'text-align':'center'})\n",
    "    h1=html.H3(y12,style={'fontWeight': 'bold','text-align':'center'})\n",
    "    \n",
    "    return html.Div([h6,h1])"
   ]
  },
  {
   "cell_type": "code",
   "execution_count": null,
   "metadata": {},
   "outputs": [],
   "source": []
  },
  {
   "cell_type": "code",
   "execution_count": 50,
   "metadata": {},
   "outputs": [],
   "source": [
    "@app.callback(\n",
    "    Output(component_id='area2',component_property='children'),\n",
    "    Input(component_id='year_slider',component_property='value')\n",
    ")\n",
    "def update_area2(max_year):\n",
    "    directors_selected = directors[(directors['release_year'] <= max_year[1]) & (directors['release_year'] >= max_year[0])].groupby('director',as_index = False)['profit'].sum().sort_values(by = 'profit', ascending = False)\n",
    "    y13 = directors_selected.head(1)['director']\n",
    "    h6=html.P('Top Director',style={'text-align':'center'})\n",
    "    h1=html.H3(y13,style={'fontWeight': 'bold','text-align':'center'})\n",
    "    \n",
    "    return html.Div([h6,h1])"
   ]
  },
  {
   "cell_type": "code",
   "execution_count": null,
   "metadata": {},
   "outputs": [],
   "source": []
  },
  {
   "cell_type": "code",
   "execution_count": 51,
   "metadata": {},
   "outputs": [],
   "source": [
    "@app.callback(\n",
    "    Output(component_id='area3',component_property='children'),\n",
    "    Input(component_id='year_slider',component_property='value')\n",
    ")\n",
    "def update_area3(max_year):\n",
    "    yy1 = companies[(companies['release_year'] <= max_year[1]) & (companies['release_year'] >= max_year[0])].groupby('production_companies',as_index = False)['profit'].sum().sort_values(by = 'profit', ascending = False)\n",
    "    yy11 = yy1.head(1)['production_companies']\n",
    "    h6=html.P('Top Companies',style={'text-align':'center'})\n",
    "    h1=html.H3(yy11,style={'fontWeight': 'bold','text-align':'center'})\n",
    "    \n",
    "    return html.Div([h6,h1])"
   ]
  },
  {
   "cell_type": "code",
   "execution_count": null,
   "metadata": {},
   "outputs": [],
   "source": []
  },
  {
   "cell_type": "code",
   "execution_count": 52,
   "metadata": {},
   "outputs": [],
   "source": [
    "@app.callback(\n",
    "    Output(component_id='area4',component_property='children'),\n",
    "    Input(component_id='year_slider',component_property='value')\n",
    ")\n",
    "def update_area4(max_year):\n",
    "    movies_selected = genres[(genres['release_year'] <= max_year[1])&(genres['release_year'] >= max_year[0])].groupby('genres',as_index = False)['profit'].sum().sort_values(by = 'profit', ascending = False)\n",
    "    y12 = movies_selected.head(1)['genres']\n",
    "    h6=html.P('Top Genres',style={'text-align':'center'})\n",
    "    h1=html.H3(y12,style={'fontWeight': 'bold','text-align':'center'})\n",
    "    \n",
    "    return html.Div([h6,h1])"
   ]
  },
  {
   "cell_type": "code",
   "execution_count": null,
   "metadata": {},
   "outputs": [],
   "source": []
  },
  {
   "cell_type": "markdown",
   "metadata": {},
   "source": [
    "# Assempling Layout"
   ]
  },
  {
   "cell_type": "code",
   "execution_count": 53,
   "metadata": {},
   "outputs": [],
   "source": [
    "app.layout=html.Div([head_div,year_slider_title_div,year_slider_div,graph_row_1,graph_row_2,graph_row_3],style={'backgroundColor':'black'})"
   ]
  },
  {
   "cell_type": "markdown",
   "metadata": {},
   "source": [
    "# Running App"
   ]
  },
  {
   "cell_type": "code",
   "execution_count": 54,
   "metadata": {},
   "outputs": [
    {
     "name": "stdout",
     "output_type": "stream",
     "text": [
      "Dash app running on http://127.0.0.1:8051/\n"
     ]
    }
   ],
   "source": [
    "app.run_server(port=8051)"
   ]
  },
  {
   "cell_type": "code",
   "execution_count": null,
   "metadata": {},
   "outputs": [],
   "source": []
  }
 ],
 "metadata": {
  "kernelspec": {
   "display_name": "Python 3",
   "language": "python",
   "name": "python3"
  },
  "language_info": {
   "codemirror_mode": {
    "name": "ipython",
    "version": 3
   },
   "file_extension": ".py",
   "mimetype": "text/x-python",
   "name": "python",
   "nbconvert_exporter": "python",
   "pygments_lexer": "ipython3",
   "version": "3.8.5"
  }
 },
 "nbformat": 4,
 "nbformat_minor": 4
}
